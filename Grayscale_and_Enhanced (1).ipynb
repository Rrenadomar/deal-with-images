{
  "nbformat": 4,
  "nbformat_minor": 0,
  "metadata": {
    "colab": {
      "provenance": []
    },
    "kernelspec": {
      "name": "python3",
      "display_name": "Python 3"
    },
    "language_info": {
      "name": "python"
    }
  },
  "cells": [
    {
      "cell_type": "code",
      "source": [
        "# Step 1: Import necessary libraries\n",
        "import cv2\n",
        "import os\n",
        "from google.colab import drive"
      ],
      "metadata": {
        "id": "7BOslFOZqPWh"
      },
      "execution_count": null,
      "outputs": []
    },
    {
      "cell_type": "code",
      "source": [
        "# Step 2: Mount Google Drive\n",
        "drive.mount('/content/drive')"
      ],
      "metadata": {
        "colab": {
          "base_uri": "https://localhost:8080/"
        },
        "id": "AkS9-MctqVvN",
        "outputId": "2c1bb138-213e-42d3-cdd0-2b258198d8a9"
      },
      "execution_count": null,
      "outputs": [
        {
          "output_type": "stream",
          "name": "stdout",
          "text": [
            "Mounted at /content/drive\n"
          ]
        }
      ]
    },
    {
      "cell_type": "markdown",
      "source": [
        "# **Convert Images To Grayscale**"
      ],
      "metadata": {
        "id": "WeW5HPJ5sq8q"
      }
    },
    {
      "cell_type": "code",
      "execution_count": null,
      "metadata": {
        "colab": {
          "base_uri": "https://localhost:8080/"
        },
        "id": "djbrhGssG0D2",
        "outputId": "8ca36250-db79-4d16-8392-1f294660272d"
      },
      "outputs": [
        {
          "output_type": "stream",
          "name": "stdout",
          "text": [
            "Skipping file PromBank5.jpeg: unable to read.\n",
            "✅ Done! Grayscale images saved to: /content/drive/MyDrive/dataset/unique_images_grayscale\n"
          ]
        }
      ],
      "source": [
        "# Step 3: Define input and output directories\n",
        "input_folder = '/content/drive/MyDrive/dataset/unique_images'\n",
        "output_folder = '/content/drive/MyDrive/dataset/unique_images_grayscale'\n",
        "\n",
        "# Step 4: Create the output directory if it doesn't exist\n",
        "os.makedirs(output_folder, exist_ok=True)\n",
        "\n",
        "# Step 5: Iterate over each image in the input folder\n",
        "for image_name in os.listdir(input_folder):\n",
        "    # Construct full file path\n",
        "    input_path = os.path.join(input_folder, image_name)\n",
        "    output_path = os.path.join(output_folder, image_name)\n",
        "\n",
        "    # Read the image\n",
        "    image = cv2.imread(input_path)\n",
        "\n",
        "    # Check if the image was successfully loaded\n",
        "    if image is None:\n",
        "        print(f\"Skipping file {image_name}: unable to read.\")\n",
        "        continue\n",
        "\n",
        "    # Convert the image to grayscale\n",
        "    gray_image = cv2.cvtColor(image, cv2.COLOR_BGR2GRAY)\n",
        "\n",
        "    # Save the grayscale image to the output folder\n",
        "    cv2.imwrite(output_path, gray_image)\n",
        "\n",
        "print(f\"✅ Done! Grayscale images saved to: {output_folder}\")\n"
      ]
    },
    {
      "cell_type": "markdown",
      "source": [
        "# **Enhanced Images**"
      ],
      "metadata": {
        "id": "vxwz7RPzBzgM"
      }
    },
    {
      "cell_type": "code",
      "source": [
        "import cv2\n",
        "import os\n",
        "import numpy as np\n",
        "\n",
        "# 🗂️ Step 1: Define input and output folders\n",
        "input_folder = output_folder\n",
        "enhanced_output_folder = '/content/drive/MyDrive/dataset/unique_images_enhanced'\n",
        "\n",
        "# 🛠️ Step 2: Create output folder if not exists\n",
        "os.makedirs(enhanced_output_folder, exist_ok=True)\n",
        "\n",
        "# 🔁 Step 3: Process each grayscale image\n",
        "for image_name in os.listdir(input_folder):\n",
        "    input_path = os.path.join(input_folder, image_name)\n",
        "    output_path = os.path.join(enhanced_output_folder, image_name)\n",
        "\n",
        "    # Read grayscale image\n",
        "    image = cv2.imread(input_path, cv2.IMREAD_GRAYSCALE)\n",
        "    if image is None:\n",
        "        print(f\"Skipping file {image_name}: unable to read.\")\n",
        "        continue\n",
        "\n",
        "    # ✅ Step 3.1: Denoise (using Gaussian Blur)\n",
        "    denoised = cv2.GaussianBlur(image, (3, 3), 0)\n",
        "\n",
        "    # ✅ Step 3.2: Enhance contrast using CLAHE\n",
        "    clahe = cv2.createCLAHE(clipLimit=2.0, tileGridSize=(8, 8))\n",
        "    enhanced = clahe.apply(denoised)\n",
        "\n",
        "    # 💾 Step 4: Save enhanced image\n",
        "    cv2.imwrite(output_path, enhanced)\n",
        "\n",
        "print(f\"✅ Enhancement done! Images saved to: {enhanced_output_folder}\")\n"
      ],
      "metadata": {
        "colab": {
          "base_uri": "https://localhost:8080/"
        },
        "id": "VVoEXbLb8ykx",
        "outputId": "0494c81b-5e00-4c37-f454-0ce67ec9a0a7"
      },
      "execution_count": null,
      "outputs": [
        {
          "output_type": "stream",
          "name": "stdout",
          "text": [
            "✅ Enhancement done! Images saved to: /content/drive/MyDrive/dataset/unique_images_enhanced\n"
          ]
        }
      ]
    }
  ]
}